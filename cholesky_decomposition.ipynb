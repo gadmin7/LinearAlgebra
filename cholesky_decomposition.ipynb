{
 "cells": [
  {
   "cell_type": "code",
   "execution_count": 1,
   "id": "c9fe66a5",
   "metadata": {},
   "outputs": [],
   "source": [
    "import math\n",
    "import numpy as np\n",
    "from numpy import linalg"
   ]
  },
  {
   "cell_type": "markdown",
   "id": "c225ad2e",
   "metadata": {},
   "source": [
    "The Cholesky decomposition or Cholesky factorization is a decomposition of a Hermitian, positive-definite matrix into the product of a lower triangular matrix and its conjugate transpose, which is useful for efficient numerical solutions, e.g., Monte Carlo simulations"
   ]
  },
  {
   "cell_type": "markdown",
   "id": "201aa7f6",
   "metadata": {},
   "source": [
    "Note - We will work on real matrices"
   ]
  },
  {
   "cell_type": "code",
   "execution_count": 2,
   "id": "79b559c5",
   "metadata": {},
   "outputs": [],
   "source": [
    "matrix = np.array([\n",
    "    [4, 12, -16],\n",
    "    [12, 37, -43],\n",
    "    [-16, -43, 98]\n",
    "])"
   ]
  },
  {
   "cell_type": "markdown",
   "id": "a74003c4",
   "metadata": {},
   "source": [
    "### Step 1 -  Check if matrix is symmetric ###"
   ]
  },
  {
   "cell_type": "code",
   "execution_count": 3,
   "id": "a9ba80aa",
   "metadata": {},
   "outputs": [],
   "source": [
    "def is_symmetric(matrix):\n",
    "    \n",
    "    # Check if the matrix is square\n",
    "    if len(matrix) != len(matrix[0]):\n",
    "        return False\n",
    "    \n",
    "    # Create the transpose of the matrix\n",
    "    transpose_matrix = matrix.T\n",
    "    \n",
    "    # Compare the original matrix with its transpose\n",
    "    for i in range(len(matrix)):\n",
    "        for j in range(len(matrix[0])):\n",
    "            if matrix[i][j] != transpose_matrix[i][j]:\n",
    "                return False\n",
    "    \n",
    "    # If all elements match, the matrix is symmetric\n",
    "    return True"
   ]
  },
  {
   "cell_type": "code",
   "execution_count": 4,
   "id": "5f3c33c4",
   "metadata": {},
   "outputs": [
    {
     "name": "stdout",
     "output_type": "stream",
     "text": [
      "The matrix is symmetric.\n"
     ]
    }
   ],
   "source": [
    "if is_symmetric(matrix):\n",
    "    print(\"The matrix is symmetric.\")\n",
    "else:\n",
    "    print(\"The matrix is not symmetric.\")"
   ]
  },
  {
   "cell_type": "code",
   "execution_count": 5,
   "id": "a5de5a6b",
   "metadata": {},
   "outputs": [
    {
     "name": "stdout",
     "output_type": "stream",
     "text": [
      "True\n"
     ]
    }
   ],
   "source": [
    "# Check if the matrix is symmetric numpy method\n",
    "if np.allclose(matrix, matrix.T):\n",
    "    print(True)"
   ]
  },
  {
   "cell_type": "markdown",
   "id": "3cba0c7a",
   "metadata": {},
   "source": [
    "### Step 2 - Check if matrix is positive definite ###"
   ]
  },
  {
   "cell_type": "code",
   "execution_count": 6,
   "id": "a5086076",
   "metadata": {},
   "outputs": [],
   "source": [
    "# for symmteric we can check positive definte by checking if all eigen values are positive\n",
    "# Actual def: xTAx > 0\n",
    "\n",
    "def is_positive_definite(matrix):\n",
    "    \n",
    "    # Check if the matrix is square\n",
    "    if matrix.shape[0] != matrix.shape[1]:\n",
    "        return False\n",
    "    \n",
    "    # Calculate the eigenvalues\n",
    "    eigenvalues = np.linalg.eigvals(matrix)\n",
    "    print(eigenvalues)\n",
    "    \n",
    "    # Check if all eigenvalues are positive\n",
    "    if np.all(eigenvalues > 0):\n",
    "        return True\n",
    "    else:\n",
    "        return False"
   ]
  },
  {
   "cell_type": "code",
   "execution_count": 7,
   "id": "2ab63c8d",
   "metadata": {},
   "outputs": [
    {
     "name": "stdout",
     "output_type": "stream",
     "text": [
      "[1.23477232e+02 1.88049805e-02 1.55039632e+01]\n",
      "The matrix is positive definite.\n"
     ]
    }
   ],
   "source": [
    "if is_positive_definite(matrix):\n",
    "    print(\"The matrix is positive definite.\")\n",
    "else:\n",
    "    print(\"The matrix is not positive definite.\")"
   ]
  },
  {
   "cell_type": "markdown",
   "id": "583653dd",
   "metadata": {},
   "source": [
    "### Step 3 - Cholesky Decomposition ###"
   ]
  },
  {
   "cell_type": "code",
   "execution_count": null,
   "id": "62d4e7ad",
   "metadata": {},
   "outputs": [],
   "source": []
  },
  {
   "cell_type": "code",
   "execution_count": 8,
   "id": "dc66fde0",
   "metadata": {},
   "outputs": [],
   "source": [
    "decomp_matrix = [[0,0,0],[0,0,0],[0,0,0]]\n",
    "\n",
    "for i in range(len(matrix)):\n",
    "    for j in range(len(matrix[0])):\n",
    "        if i== 0 and j == 0:\n",
    "            decomp_matrix[i][j] = math.sqrt(matrix[i][j])\n",
    "        if i==1 and j==0:\n",
    "            decomp_matrix[i][j] = matrix[i][j]/decomp_matrix[0][0]\n",
    "        if i==1 and j==1:\n",
    "            decomp_matrix[i][j] = math.sqrt(matrix[i][j] - decomp_matrix[1][0]**2)\n",
    "        if i==2 and j==0:\n",
    "            decomp_matrix[i][j] = matrix[i][j]/decomp_matrix[0][0]\n",
    "        if i==2 and j==1:\n",
    "            decomp_matrix[i][j] = (matrix[i][j] - decomp_matrix[2][0]*decomp_matrix[1][0])/decomp_matrix[1][1]\n",
    "        if i==2 and j==2:\n",
    "            decomp_matrix[i][j] = math.sqrt(matrix[i][j] - decomp_matrix[2][0]**2 - decomp_matrix[2][1]**2)"
   ]
  },
  {
   "cell_type": "code",
   "execution_count": 9,
   "id": "d95d57fb",
   "metadata": {},
   "outputs": [
    {
     "data": {
      "text/plain": [
       "[[2.0, 0, 0], [6.0, 1.0, 0], [-8.0, 5.0, 3.0]]"
      ]
     },
     "execution_count": 9,
     "metadata": {},
     "output_type": "execute_result"
    }
   ],
   "source": [
    "decomp_matrix"
   ]
  },
  {
   "cell_type": "code",
   "execution_count": 10,
   "id": "1d6d65b2",
   "metadata": {},
   "outputs": [],
   "source": [
    "# cholesky decomposition numpy method\n",
    "decomposition = np.linalg.cholesky(matrix)"
   ]
  },
  {
   "cell_type": "code",
   "execution_count": 11,
   "id": "bc986d0b",
   "metadata": {},
   "outputs": [
    {
     "name": "stdout",
     "output_type": "stream",
     "text": [
      "[[ 2.  0.  0.]\n",
      " [ 6.  1.  0.]\n",
      " [-8.  5.  3.]]\n"
     ]
    }
   ],
   "source": [
    "print(decomposition)"
   ]
  }
 ],
 "metadata": {
  "kernelspec": {
   "display_name": "nlpdri",
   "language": "python",
   "name": "nlpdri"
  },
  "language_info": {
   "codemirror_mode": {
    "name": "ipython",
    "version": 3
   },
   "file_extension": ".py",
   "mimetype": "text/x-python",
   "name": "python",
   "nbconvert_exporter": "python",
   "pygments_lexer": "ipython3",
   "version": "3.7.3"
  }
 },
 "nbformat": 4,
 "nbformat_minor": 5
}
